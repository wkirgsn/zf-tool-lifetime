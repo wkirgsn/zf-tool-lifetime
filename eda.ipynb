{
 "cells": [
  {
   "cell_type": "code",
   "execution_count": 78,
   "metadata": {
    "collapsed": true,
    "pycharm": {
     "is_executing": false
    }
   },
   "outputs": [],
   "source": [
    "import pandas as pd\n",
    "import numpy as np"
   ]
  },
  {
   "cell_type": "code",
   "execution_count": 79,
   "outputs": [],
   "source": [
    "bedarf_formen = pd.read_csv('data/formen_und_giesszellenbedarf_2019.csv')\n",
    "prod_form_lut = pd.read_csv('data/zuweisung_produkte_und_formen.csv', \n",
    "                            dtype=dict(Produktnummer=np.uint32))\n",
    "bestellungen_2019 = pd.read_csv('data/bestellungen_2019.csv').dropna()\\\n",
    "    .reset_index(drop=True).astype(np.uint32)\n",
    "bestellungen_2020 = pd.read_csv('data/bestellungen_2020.csv').dropna()\\\n",
    "    .reset_index(drop=True).astype(np.uint32)\n",
    "prod = prod_form_lut.pop('Produktnummer')\n",
    "time_format = '%b %y'"
   ],
   "metadata": {
    "collapsed": false,
    "pycharm": {
     "name": "#%%\n",
     "is_executing": false
    }
   }
  },
  {
   "cell_type": "code",
   "execution_count": 80,
   "outputs": [],
   "source": [
    "#bestellungen_2019.columns"
   ],
   "metadata": {
    "collapsed": false,
    "pycharm": {
     "name": "#%%\n",
     "is_executing": false
    }
   }
  },
  {
   "cell_type": "code",
   "execution_count": 81,
   "outputs": [],
   "source": [
    "def prettify_orders(df):\n",
    "    df.drop('Gesamt', axis=1, inplace=True)\n",
    "    customer_x_prod = df.iloc[:, :2]\n",
    "    orders = df.iloc[:, 2:].stack().reset_index(1)\n",
    "    orders.columns = ['date', 'amt_orders']\n",
    "    orders = orders.join(customer_x_prod)\n",
    "    orders.date = pd.to_datetime(orders.date, \n",
    "                                 format='%b-%y').dt.strftime(time_format)\n",
    "    return orders"
   ],
   "metadata": {
    "collapsed": false,
    "pycharm": {
     "name": "#%%\n",
     "is_executing": false
    }
   }
  },
  {
   "cell_type": "code",
   "execution_count": 82,
   "outputs": [],
   "source": [
    "orders = pd.concat([prettify_orders(bestellungen_2019), \n",
    "                    prettify_orders(bestellungen_2020)], ignore_index=True)\n",
    "stacked_lut = (prod_form_lut\n",
    "                .stack()\n",
    "                .reset_index(1)\n",
    "                .rename(columns={'level_1': 'Form', \n",
    "                                 0: 'Bedarf'}))\n",
    "prod_form_lut = stacked_lut.join(prod).reset_index(drop=True).loc[:, \n",
    "                ['Produktnummer', 'Form', 'Bedarf']]\n",
    "orders['attrition_by_product'] = \\\n",
    "    orders.Produktnummer.map(prod_form_lut[['Produktnummer', 'Bedarf']]\n",
    "                       .groupby('Produktnummer').sum().Bedarf.to_dict())\n",
    "orders['total_attrition'] = orders.amt_orders * orders.attrition_by_product"
   ],
   "metadata": {
    "collapsed": false,
    "pycharm": {
     "name": "#%%\n",
     "is_executing": false
    }
   }
  },
  {
   "cell_type": "code",
   "execution_count": 83,
   "outputs": [],
   "source": [
    "forms_cols = bedarf_formen.Form\n",
    "today = pd.to_datetime('today').strftime(time_format)\n",
    "prod_form_map = prod_form_lut.pivot(index='Produktnummer',\n",
    "                    columns='Form', values='Bedarf')[forms_cols]\n",
    "prod_giesszellenbedarf_map = prod_form_map * \\\n",
    "                             bedarf_formen['Gießzellenbedarf'].values.T\n",
    "#prod_form_map.loc[56, 'F6']\n",
    "orders_x_forms_df = orders.merge(prod_form_map.reset_index(),\n",
    "                                 how='left', on='Produktnummer')\n",
    "orders_x_forms_df.loc[:, forms_cols] = \\\n",
    "    orders_x_forms_df.loc[:, forms_cols] * orders_x_forms_df.amt_orders.values[:, np.newaxis]\n",
    "form_attritions_over_time = (orders_x_forms_df\n",
    "                             .groupby(['date'])[forms_cols]\n",
    "                             .sum())\n",
    "# sort by datetime_index\n",
    "form_attritions_over_time = (form_attritions_over_time\n",
    "                                 .loc[pd.to_datetime(\n",
    "                                        form_attritions_over_time.index, \n",
    "                                        format=time_format)\n",
    "                                 .sort_values().strftime(time_format), :])"
   ],
   "metadata": {
    "collapsed": false,
    "pycharm": {
     "name": "#%%\n",
     "is_executing": false
    }
   }
  },
  {
   "cell_type": "code",
   "execution_count": 90,
   "outputs": [
    {
     "name": "stderr",
     "text": [
      "/home/wilhelmk/tools/anaconda3/envs/tf-cpu/lib/python3.6/site-packages/ipykernel_launcher.py:6: FutureWarning: clip_upper(threshold) is deprecated, use clip(upper=threshold) instead\n",
      "  \n"
     ],
     "output_type": "stream"
    }
   ],
   "source": [
    "duration_left = bedarf_formen['Anzahl maximaler Gießvorgänge'] - \\\n",
    "                bedarf_formen['Anzahl bisheriger Gießvorgänge']\n",
    "next_attritions = form_attritions_over_time.loc[today:, :].cumsum()\n",
    "maintenance = ((next_attritions - duration_left.values[np.newaxis, :]) < 0)\n",
    "next_maintenance = maintenance.sum()\n",
    "bedarf_formen['next maintenance'] = next_attritions.index[next_maintenance.clip_upper(\n",
    "            len(maintenance)-1)]"
   ],
   "metadata": {
    "collapsed": false,
    "pycharm": {
     "name": "#%%\n",
     "is_executing": false
    }
   }
  },
  {
   "cell_type": "code",
   "execution_count": 99,
   "outputs": [
    {
     "data": {
      "text/plain": "'Dec 19'"
     },
     "metadata": {},
     "output_type": "execute_result",
     "execution_count": 99
    }
   ],
   "source": [
    "pd.to_datetime('today').strftime(time_format)"
   ],
   "metadata": {
    "collapsed": false,
    "pycharm": {
     "name": "#%%\n",
     "is_executing": false
    }
   }
  },
  {
   "cell_type": "code",
   "execution_count": null,
   "outputs": [],
   "source": [
    "\n"
   ],
   "metadata": {
    "collapsed": false,
    "pycharm": {
     "name": "#%%\n",
     "is_executing": false
    }
   }
  }
 ],
 "metadata": {
  "kernelspec": {
   "display_name": "Python 3",
   "language": "python",
   "name": "python3"
  },
  "language_info": {
   "codemirror_mode": {
    "name": "ipython",
    "version": 2
   },
   "file_extension": ".py",
   "mimetype": "text/x-python",
   "name": "python",
   "nbconvert_exporter": "python",
   "pygments_lexer": "ipython2",
   "version": "2.7.6"
  },
  "pycharm": {
   "stem_cell": {
    "cell_type": "raw",
    "source": [],
    "metadata": {
     "collapsed": false
    }
   }
  }
 },
 "nbformat": 4,
 "nbformat_minor": 0
}